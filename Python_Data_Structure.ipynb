{
  "nbformat": 4,
  "nbformat_minor": 0,
  "metadata": {
    "colab": {
      "provenance": []
    },
    "kernelspec": {
      "name": "python3",
      "display_name": "Python 3"
    },
    "language_info": {
      "name": "python"
    }
  },
  "cells": [
    {
      "cell_type": "markdown",
      "source": [
        "1.What are data structures, and why are they important?\n",
        "\n",
        "-> Data structures are specialized formats for organizing, storing, and accessing collections of data.\n",
        "They provide efficient ways to manage information based on its characteristics and intended use."
      ],
      "metadata": {
        "id": "oKsDq1y_bj-o"
      }
    },
    {
      "cell_type": "markdown",
      "source": [
        "2.Explain the difference between mutable and immutable data types with examples\n",
        "\n",
        "-> Mutable Data Types\n",
        "\n",
        "These can be changed (modified) after they are created.\n",
        "You can add, remove, or change elements without creating a new object.\n",
        "Example - list, dict, set.\n",
        "\n",
        "-> Immutable Data Types\n",
        "\n",
        "These cannot be changed after creation.\n",
        "Any modification creates a new object with a different memory address.\n",
        "\n",
        "Example - int, float, str\n"
      ],
      "metadata": {
        "id": "SJnDbbbUb1OX"
      }
    },
    {
      "cell_type": "markdown",
      "source": [
        "3.What are the main differences between lists and tuples in Python?\n",
        "\n",
        "A.\n",
        "\n",
        "-> List: Mutable-can be modified (add, remove, or change elements).\n",
        "\n",
        "-> Tuple: Immutable-cannot be changed once created.\n",
        "\n",
        "B.\n",
        "\n",
        " -> Syntax\n",
        "\n",
        "List: Defined with square brackets [ ]\n",
        "\n",
        "Tuple: Defined with parentheses ( )"
      ],
      "metadata": {
        "id": "oXPmOfBNcu_O"
      }
    },
    {
      "cell_type": "markdown",
      "source": [
        "4.Describe how dictionaries store data.\n",
        "\n",
        "-> A dictionary is an unordered collection and it stores data in the form of key value pair."
      ],
      "metadata": {
        "id": "Lzt2pMw2dI01"
      }
    },
    {
      "cell_type": "markdown",
      "source": [
        "5.Why might you use a set instead of a list in Python?\n",
        "\n",
        "-> We will use a set instead of a dictionary in following scenarios-\n",
        "To find Unique Elements, For membership checking, to  perform set operations like union and intersection.\n"
      ],
      "metadata": {
        "id": "-71ljGkqdnJV"
      }
    },
    {
      "cell_type": "markdown",
      "source": [
        "6.What is a string in Python, and how is it different from a list?\n",
        "\n",
        "-> A string is a sequence of characters enclosed in single quotes (' '), double quotes (\" \"), or triple quotes (''' ''' or \"\"\" \"\"\").\n",
        "-> Strings are immutable, meaning their contents cannot be changed after creation.\n",
        "\n",
        "-> Whereas , list are collection of items (can be of different data types) in brackets[].\n",
        "And lists are mutable.\n"
      ],
      "metadata": {
        "id": "5KS7T0sseTct"
      }
    },
    {
      "cell_type": "markdown",
      "source": [
        "7.How do tuples ensure data integrity in Python?\n",
        "\n",
        "-> Tuples ensure data integrity by being immutable—once a tuple is created, its elements cannot be changed, added, or removed. This property provides several benefits for maintaining consistent data."
      ],
      "metadata": {
        "id": "7gDKVDNke4Jt"
      }
    },
    {
      "cell_type": "markdown",
      "source": [
        "8.What is a hash table, and how does it relate to dictionaries in Python?\n",
        "\n",
        "-> A hash table is a data structure that stores data in key-value pairs and uses a hash function to determine where each key-value pair is stored in memory.\n",
        "\n",
        "Hash Function: Converts a key into a numerical index (hash value).\n",
        "\n",
        "Buckets: Locations in the hash table where key-value pairs are stored.\n",
        "\n",
        "Collision Handling: If two keys produce the same hash value, Python uses techniques like open addressing or probing to find another available slot."
      ],
      "metadata": {
        "id": "1hiY81jXfIbu"
      }
    },
    {
      "cell_type": "markdown",
      "source": [
        "9.Can lists contain different data types in Python?\n",
        "\n",
        "-> Yes. In Python, lists can contain elements of different data types because Python lists are heterogeneous."
      ],
      "metadata": {
        "id": "cT0-UaxIfTP-"
      }
    },
    {
      "cell_type": "markdown",
      "source": [
        "10.Explain why strings are immutable in Python\n",
        "\n",
        "-> Strings in Python are immutable, meaning once created, their contents cannot be changed.\n",
        "\n",
        "-> Memory Efficiency via String Interning\n",
        "-> Hashing & Dictionary Keys\n",
        "-> Thread Safety\n",
        "-> Performance Optimization\n"
      ],
      "metadata": {
        "id": "xYEggYEkftxG"
      }
    },
    {
      "cell_type": "markdown",
      "source": [
        "11.What advantages do dictionaries offer over lists for certain tasks\n",
        "\n",
        "->Dictionaries offer several advantages some of which are-\n",
        "-> Key-Value Pairing\n",
        "-> Fast Lookup, Insertion, and Deletion\n",
        "-> Avoiding duplicates"
      ],
      "metadata": {
        "id": "uu1VXJapgM3m"
      }
    },
    {
      "cell_type": "markdown",
      "source": [
        "12. Describe a scenario where using a tuple would be preferable over a list\n",
        "\n",
        "->A tuple is preferable over a list when you need a fixed collection of items that should not change throughout the program. Tuples provide immutability, which ensures data integrity and can offer better performance."
      ],
      "metadata": {
        "id": "ucuCPP_7gbwf"
      }
    },
    {
      "cell_type": "markdown",
      "source": [
        "13.How do sets handle duplicate values in Python?\n",
        "\n",
        "-> In Python, sets automatically remove duplicate values because they are designed to store only unique elements."
      ],
      "metadata": {
        "id": "pK-h60Sqg3lf"
      }
    },
    {
      "cell_type": "markdown",
      "source": [
        "14.How does the “in” keyword work differently for lists and dictionaries?\n",
        "\n",
        "-> The \"in\" keyword is used to check membership, but its behavior differs between lists and dictionaries.\n",
        "\n",
        "->'in' with Lists\n",
        "\n",
        "Checks if a value is present in the list.\n",
        "\n",
        "-> 'in' with Dictionaries\n",
        "\n",
        "Checks if a key is present in the dictionary (not the value)."
      ],
      "metadata": {
        "id": "XR6GNLZBhGrH"
      }
    },
    {
      "cell_type": "markdown",
      "source": [
        "15.Can you modify the elements of a tuple? Explain why or why not\n",
        "\n",
        "-> No, you cannot modify the elements of a tuple in Python because tuples are immutable.\n",
        "\n",
        "->Data Integrity\n",
        "Once created, a tuple cannot be changed, ensuring that data remains constant throughout the program.\n",
        "\n",
        "->Hashability\n",
        "Immutability allows tuples to be hashable, meaning they can be used as dictionary keys or stored in sets.\n",
        "\n",
        "->Memory & Performance Optimization\n",
        "Since tuples do not change, Python can store them more efficiently and perform faster operations compared to mutable objects."
      ],
      "metadata": {
        "id": "2UEGaPYZhYyY"
      }
    },
    {
      "cell_type": "markdown",
      "source": [
        "16.What is a nested dictionary, and give an example of its use case.\n",
        "\n",
        "-> A nested dictionary is a dictionary where values are themselves dictionaries.\n",
        "This allows storing hierarchical or structured data in multiple levels.\n",
        "\n",
        "-> students = {\n",
        "    \"101\": {\"name\": \"Alice\", \"age\": 20, \"marks\": {\"math\": 90, \"science\": 85}},\n",
        "    \"102\": {\"name\": \"Bob\", \"age\": 22, \"marks\": {\"math\": 78, \"science\": 80}}\n",
        "}"
      ],
      "metadata": {
        "id": "gne25OcwjYoj"
      }
    },
    {
      "cell_type": "markdown",
      "source": [
        "17.Describe the time complexity of accessing elements in a dictionary.\n",
        "\n",
        "-> In Python, dictionaries are implemented using hash tables, which makes element access highly efficient.\n",
        "\n",
        "Time Complexity\n",
        "\n",
        "->Average Case: O(1)\n",
        "Accessing an element by key is constant-time because the key's hash value directly maps to its storage location.\n",
        "\n",
        "->Worst Case: O(n)\n",
        "Occurs rarely, usually when many keys produce the same hash value (hash collisions), forcing Python to search sequentially."
      ],
      "metadata": {
        "id": "J9SWfszbjvrU"
      }
    },
    {
      "cell_type": "markdown",
      "source": [
        "18.In what situations are lists preferred over dictionaries?\n",
        "\n",
        "-> ists are preferred over dictionaries in situations where order matters, duplicates are allowed, or key-value mapping is not required."
      ],
      "metadata": {
        "id": "oJJl-_uukAz9"
      }
    },
    {
      "cell_type": "markdown",
      "source": [
        "19.Why are dictionaries considered unordered, and how does that affect data retrieval?\n",
        "\n",
        "->Python dictionaries were considered unordered because their internal implementation (hash tables) did not guarantee the order of keys.\n",
        "\n",
        "->Key-based retrieval is unaffected: Dictionary lookups are based on key hashes, not position.\n",
        "\n",
        "->You cannot access items by index (like dict[0]) because there is no inherent positional order."
      ],
      "metadata": {
        "id": "BnAKojn8kJ-F"
      }
    },
    {
      "cell_type": "markdown",
      "source": [
        "20.Explain the difference between a list and a dictionary in terms of data retrieval.\n",
        "\n",
        "-> 1. Retrieval Method\n",
        "\n",
        "List:\n",
        "Data is accessed by index (position).\n",
        "Dictionary:\n",
        "Data is accessed by key (not position).\n",
        "\n",
        "-> 2. Time Complexity\n",
        "\n",
        "List:\n",
        "Retrieval by index → O(1)\n",
        "Retrieval by value (searching) → O(n)\n",
        "\n",
        "Dictionary:\n",
        "Retrieval by key → O(1) (average, due to hash table)"
      ],
      "metadata": {
        "id": "96BhLVetkwXf"
      }
    },
    {
      "cell_type": "markdown",
      "source": [
        "#Practical Questions"
      ],
      "metadata": {
        "id": "pCWE9Nv7lObI"
      }
    },
    {
      "cell_type": "code",
      "source": [
        "#1.Write a code to create a string with your name and print it.\n",
        "\n",
        "Name = input(\"Enter your name:\")\n",
        "print(type(Name))\n",
        "print(Name)"
      ],
      "metadata": {
        "colab": {
          "base_uri": "https://localhost:8080/"
        },
        "id": "HL7koE07lMUV",
        "outputId": "c31ec375-6eb4-4356-ae03-3805f97e7ee2"
      },
      "execution_count": 4,
      "outputs": [
        {
          "output_type": "stream",
          "name": "stdout",
          "text": [
            "Enter your name:Ashish Seth\n",
            "<class 'str'>\n",
            "Ashish Seth\n"
          ]
        }
      ]
    },
    {
      "cell_type": "code",
      "source": [
        "#2.Write a code to find the length of the string \"Hello World\".\n",
        "\n",
        "A= \"Hello World\"\n",
        "print(len(A))"
      ],
      "metadata": {
        "colab": {
          "base_uri": "https://localhost:8080/"
        },
        "id": "foxwrgnnmCPr",
        "outputId": "f5ef11d5-6f49-4a5a-e766-40fb3287f261"
      },
      "execution_count": 7,
      "outputs": [
        {
          "output_type": "stream",
          "name": "stdout",
          "text": [
            "11\n"
          ]
        }
      ]
    },
    {
      "cell_type": "code",
      "source": [
        "#3.Write a code to slice the first 3 characters from the string \"Python Programming\".\n",
        "\n",
        "text = \"Python Programming\"\n",
        "result = text[:3]\n",
        "print(result)"
      ],
      "metadata": {
        "colab": {
          "base_uri": "https://localhost:8080/"
        },
        "id": "P13S0p43mLVs",
        "outputId": "5a167f87-cf4d-4dd6-f08a-83bb03a83c3b"
      },
      "execution_count": 8,
      "outputs": [
        {
          "output_type": "stream",
          "name": "stdout",
          "text": [
            "Pyt\n"
          ]
        }
      ]
    },
    {
      "cell_type": "code",
      "source": [
        "#4.Write a code to convert the string \"hello\" to uppercase?\n",
        "\n",
        "text = \"hello\"\n",
        "result = text.upper()\n",
        "print(result)"
      ],
      "metadata": {
        "colab": {
          "base_uri": "https://localhost:8080/"
        },
        "id": "G5qiwKYymjV0",
        "outputId": "837d791b-ea0f-4937-d455-d996261d6bde"
      },
      "execution_count": 9,
      "outputs": [
        {
          "output_type": "stream",
          "name": "stdout",
          "text": [
            "HELLO\n"
          ]
        }
      ]
    },
    {
      "cell_type": "code",
      "source": [
        "#5.Write a code to replace the word \"apple\" with \"orange\" in the string \"I like apple\".\n",
        "\n",
        "text = \"I like apple\"\n",
        "result = text.replace(\"apple\", \"orange\")\n",
        "print(result)"
      ],
      "metadata": {
        "colab": {
          "base_uri": "https://localhost:8080/"
        },
        "id": "jitnZfqdmxGV",
        "outputId": "0f48e0a9-6492-4457-8ad9-171417054364"
      },
      "execution_count": 10,
      "outputs": [
        {
          "output_type": "stream",
          "name": "stdout",
          "text": [
            "I like orange\n"
          ]
        }
      ]
    },
    {
      "cell_type": "code",
      "source": [
        "#6.Write a code to create a list with numbers 1 to 5 and print it.\n",
        "\n",
        "numbers = list(range(1, 6))\n",
        "print(numbers)"
      ],
      "metadata": {
        "colab": {
          "base_uri": "https://localhost:8080/"
        },
        "id": "wLaOGvtSnCxW",
        "outputId": "b52f2976-5fc8-4fdd-c7c7-2a1657080bfe"
      },
      "execution_count": 11,
      "outputs": [
        {
          "output_type": "stream",
          "name": "stdout",
          "text": [
            "[1, 2, 3, 4, 5]\n"
          ]
        }
      ]
    },
    {
      "cell_type": "code",
      "source": [
        "#7. Write a code to append the number 10 to the list [1, 2, 3, 4].\n",
        "\n",
        "numbers = [1, 2, 3, 4]\n",
        "numbers.append(10)\n",
        "print(numbers)"
      ],
      "metadata": {
        "colab": {
          "base_uri": "https://localhost:8080/"
        },
        "id": "C0G4sQyPnUUf",
        "outputId": "a93abba6-2a66-404c-a6ac-7c98992edee8"
      },
      "execution_count": 12,
      "outputs": [
        {
          "output_type": "stream",
          "name": "stdout",
          "text": [
            "[1, 2, 3, 4, 10]\n"
          ]
        }
      ]
    },
    {
      "cell_type": "code",
      "source": [
        "#8. Write a code to remove the number 3 from the list [1, 2, 3, 4, 5]\n",
        "\n",
        "numbers =[1,2,3,4,5]\n",
        "numbers.pop(2)\n",
        "print(numbers)\n"
      ],
      "metadata": {
        "colab": {
          "base_uri": "https://localhost:8080/"
        },
        "id": "5NZvJgaHnfQI",
        "outputId": "706c6142-0014-4db0-c59c-f26fae7ada12"
      },
      "execution_count": 14,
      "outputs": [
        {
          "output_type": "stream",
          "name": "stdout",
          "text": [
            "[1, 2, 4, 5]\n"
          ]
        }
      ]
    },
    {
      "cell_type": "code",
      "source": [
        "#9. Write a code to access the second element in the list ['a', 'b', 'c', 'd'].\n",
        "\n",
        "letters = ['a', 'b', 'c', 'd']\n",
        "print(letters[1])"
      ],
      "metadata": {
        "colab": {
          "base_uri": "https://localhost:8080/"
        },
        "id": "6oGj7E1On8kp",
        "outputId": "4e5bf782-0e5b-45be-9de6-9d0468be9042"
      },
      "execution_count": 15,
      "outputs": [
        {
          "output_type": "stream",
          "name": "stdout",
          "text": [
            "b\n"
          ]
        }
      ]
    },
    {
      "cell_type": "code",
      "source": [
        "#10. Write a code to reverse the list [10, 20, 30, 40, 50].\n",
        "\n",
        "lst=[10, 20, 30, 40, 50]\n",
        "lst1=lst[::-1]\n",
        "print(lst1)"
      ],
      "metadata": {
        "colab": {
          "base_uri": "https://localhost:8080/"
        },
        "id": "cZdyIa3_oKyJ",
        "outputId": "16ade722-b927-4c15-d66c-5653b6836310"
      },
      "execution_count": 17,
      "outputs": [
        {
          "output_type": "stream",
          "name": "stdout",
          "text": [
            "[50, 40, 30, 20, 10]\n"
          ]
        }
      ]
    },
    {
      "cell_type": "code",
      "source": [
        "#11. Write a code to create a tuple with the elements 100, 200, 300 and print it.\n",
        "\n",
        "my_tuple = tuple(range(100, 301, 100))\n",
        "print(my_tuple)"
      ],
      "metadata": {
        "colab": {
          "base_uri": "https://localhost:8080/"
        },
        "id": "VphJXBx-ouu0",
        "outputId": "aa6825c8-d15a-467c-bcdb-18bda31419df"
      },
      "execution_count": 19,
      "outputs": [
        {
          "output_type": "stream",
          "name": "stdout",
          "text": [
            "(100, 200, 300)\n"
          ]
        }
      ]
    },
    {
      "cell_type": "code",
      "source": [
        "#12. Write a code to access the second-to-last element of the tuple ('red', 'green', 'blue', 'yellow').\n",
        "\n",
        "colors = ('red', 'green', 'blue', 'yellow')\n",
        "print(colors[-2])"
      ],
      "metadata": {
        "colab": {
          "base_uri": "https://localhost:8080/"
        },
        "id": "kVFGQXqjpHdN",
        "outputId": "dcbe42b9-08b0-464d-9e40-a7c5a43e0c47"
      },
      "execution_count": 20,
      "outputs": [
        {
          "output_type": "stream",
          "name": "stdout",
          "text": [
            "blue\n"
          ]
        }
      ]
    },
    {
      "cell_type": "code",
      "source": [
        "#13. Write a code to find the minimum number in the tuple (10, 20, 5, 15).\n",
        "\n",
        "numbers = (10, 20, 5, 15)\n",
        "print(min(numbers))"
      ],
      "metadata": {
        "colab": {
          "base_uri": "https://localhost:8080/"
        },
        "id": "K5tNLCoBpU5m",
        "outputId": "6163904c-f0b2-4bce-d1f7-7e0ac2116bca"
      },
      "execution_count": 21,
      "outputs": [
        {
          "output_type": "stream",
          "name": "stdout",
          "text": [
            "5\n"
          ]
        }
      ]
    },
    {
      "cell_type": "code",
      "source": [
        "#14. Write a code to find the index of the element \"cat\" in the tuple ('dog', 'cat', 'rabbit')\n",
        "\n",
        "animals = ('dog', 'cat', 'rabbit')\n",
        "print(animals.index('cat'))"
      ],
      "metadata": {
        "colab": {
          "base_uri": "https://localhost:8080/"
        },
        "id": "iNqcLwlupe4f",
        "outputId": "be85ca2f-0db6-4fa0-cecd-4d9133c170d0"
      },
      "execution_count": 22,
      "outputs": [
        {
          "output_type": "stream",
          "name": "stdout",
          "text": [
            "1\n"
          ]
        }
      ]
    },
    {
      "cell_type": "code",
      "source": [
        "#15. Write a code to create a tuple containing three different fruits and check if \"kiwi\" is in it.\n",
        "\n",
        "fruits = (\"apple\", \"banana\", \"orange\")\n",
        "\n",
        "if \"kiwi\" in fruits:\n",
        "    print(\"Kiwi is in the tuple.\")\n",
        "else:\n",
        "    print(\"Kiwi is not in the tuple.\")"
      ],
      "metadata": {
        "colab": {
          "base_uri": "https://localhost:8080/"
        },
        "id": "vgqsZFdhprrw",
        "outputId": "5e7d6629-2e81-45e1-dabe-8035ac03fdaa"
      },
      "execution_count": 23,
      "outputs": [
        {
          "output_type": "stream",
          "name": "stdout",
          "text": [
            "Kiwi is not in the tuple.\n"
          ]
        }
      ]
    },
    {
      "cell_type": "code",
      "source": [
        "#16. Write a code to create a set with the elements 'a', 'b', 'c' and print it.\n",
        "\n",
        "my_set = {'a', 'b', 'c'}\n",
        "print(my_set)"
      ],
      "metadata": {
        "colab": {
          "base_uri": "https://localhost:8080/"
        },
        "id": "dNtzDA7zp_t5",
        "outputId": "98fb36b9-bc17-4aaa-cb33-2f3b7aa67041"
      },
      "execution_count": 24,
      "outputs": [
        {
          "output_type": "stream",
          "name": "stdout",
          "text": [
            "{'a', 'c', 'b'}\n"
          ]
        }
      ]
    },
    {
      "cell_type": "code",
      "source": [
        "#17. Write a code to clear all elements from the set {1, 2, 3, 4, 5}.\n",
        "\n",
        "my_set = {1, 2, 3, 4, 5}\n",
        "my_set.clear()\n",
        "print(my_set)"
      ],
      "metadata": {
        "colab": {
          "base_uri": "https://localhost:8080/"
        },
        "id": "y9Z0WHcQqJrp",
        "outputId": "bb505c44-085e-4047-d451-ee6109e2da6c"
      },
      "execution_count": 25,
      "outputs": [
        {
          "output_type": "stream",
          "name": "stdout",
          "text": [
            "set()\n"
          ]
        }
      ]
    },
    {
      "cell_type": "code",
      "source": [
        "#18. Write a code to remove the element 4 from the set {1, 2, 3, 4}.\n",
        "\n",
        "my_set = {1, 2, 3, 4}\n",
        "my_set.remove(4)\n",
        "print(my_set)"
      ],
      "metadata": {
        "colab": {
          "base_uri": "https://localhost:8080/"
        },
        "id": "mImWDqq4qUQS",
        "outputId": "9c22b2c0-1bad-4374-9850-55f666ebec64"
      },
      "execution_count": 26,
      "outputs": [
        {
          "output_type": "stream",
          "name": "stdout",
          "text": [
            "{1, 2, 3}\n"
          ]
        }
      ]
    },
    {
      "cell_type": "code",
      "source": [
        "#19.  Write a code to find the union of two sets {1, 2, 3} and {3, 4, 5}.\n",
        "\n",
        "set1 = {1, 2, 3}\n",
        "set2 = {3, 4, 5}\n",
        "result = set1|set2\n",
        "print(result)"
      ],
      "metadata": {
        "colab": {
          "base_uri": "https://localhost:8080/"
        },
        "id": "U-TMxVqQqc8r",
        "outputId": "35311ebb-61c1-4b0b-ff3b-b3f90c91df18"
      },
      "execution_count": 28,
      "outputs": [
        {
          "output_type": "stream",
          "name": "stdout",
          "text": [
            "{1, 2, 3, 4, 5}\n"
          ]
        }
      ]
    },
    {
      "cell_type": "code",
      "source": [
        "#20. Write a code to find the intersection of two sets {1, 2, 3} and {2, 3, 4}.\n",
        "\n",
        "set1 = {1, 2, 3}\n",
        "set2 = {2, 3, 4}\n",
        "result = set1&set2\n",
        "print(result)"
      ],
      "metadata": {
        "colab": {
          "base_uri": "https://localhost:8080/"
        },
        "id": "XCAf9yabquQ0",
        "outputId": "63fb182d-63ef-43c2-cb24-e5926c8afa24"
      },
      "execution_count": 30,
      "outputs": [
        {
          "output_type": "stream",
          "name": "stdout",
          "text": [
            "{2, 3}\n"
          ]
        }
      ]
    },
    {
      "cell_type": "code",
      "source": [
        "#21. Write a code to create a dictionary with the keys \"name\", \"age\", and \"city\", and print it.\n",
        "\n",
        "person = {\"name\": \"John\",\"age\": 25,\"city\": \"New York\"}\n",
        "print(person)"
      ],
      "metadata": {
        "colab": {
          "base_uri": "https://localhost:8080/"
        },
        "id": "4KjMGXzLrL_t",
        "outputId": "47a75326-cb87-4da3-f09a-0538bf612cf3"
      },
      "execution_count": 31,
      "outputs": [
        {
          "output_type": "stream",
          "name": "stdout",
          "text": [
            "{'name': 'John', 'age': 25, 'city': 'New York'}\n"
          ]
        }
      ]
    },
    {
      "cell_type": "code",
      "source": [
        "#22. Write a code to add a new key-value pair \"country\": \"USA\" to the dictionary {'name': 'John', 'age': 25}.\n",
        "\n",
        "person = {'name': 'John', 'age': 25}\n",
        "person['country'] = 'USA'\n",
        "print(person)"
      ],
      "metadata": {
        "colab": {
          "base_uri": "https://localhost:8080/"
        },
        "id": "vmSqwxuUre7v",
        "outputId": "63f7321d-f70e-4748-af4f-f897bf2181ee"
      },
      "execution_count": 32,
      "outputs": [
        {
          "output_type": "stream",
          "name": "stdout",
          "text": [
            "{'name': 'John', 'age': 25, 'country': 'USA'}\n"
          ]
        }
      ]
    },
    {
      "cell_type": "code",
      "source": [
        "#23. Write a code to access the value associated with the key \"name\" in the dictionary {'name': 'Alice', 'age': 30}.\n",
        "\n",
        "person = {'name': 'Alice', 'age': 30}\n",
        "print(person['name'])"
      ],
      "metadata": {
        "colab": {
          "base_uri": "https://localhost:8080/"
        },
        "id": "QbeRv_NErrXw",
        "outputId": "6e304ec2-16a5-46c2-e871-22d0146f7440"
      },
      "execution_count": 33,
      "outputs": [
        {
          "output_type": "stream",
          "name": "stdout",
          "text": [
            "Alice\n"
          ]
        }
      ]
    },
    {
      "cell_type": "code",
      "source": [
        "#24. Write a code to remove the key \"age\" from the dictionary {'name': 'Bob', 'age': 22, 'city': 'New York'}.\n",
        "\n",
        "person = {'name': 'Bob', 'age': 22, 'city': 'New York'}\n",
        "person.pop('age')\n",
        "print(person)"
      ],
      "metadata": {
        "colab": {
          "base_uri": "https://localhost:8080/"
        },
        "id": "eACx6mGir10A",
        "outputId": "b08be0d5-1a16-4fdb-f751-fe9a7bc8c297"
      },
      "execution_count": 34,
      "outputs": [
        {
          "output_type": "stream",
          "name": "stdout",
          "text": [
            "{'name': 'Bob', 'city': 'New York'}\n"
          ]
        }
      ]
    },
    {
      "cell_type": "code",
      "source": [
        "#25. Write a code to check if the key \"city\" exists in the dictionary {'name': 'Alice', 'city': 'Paris'}.\n",
        "\n",
        "person = {'name': 'Alice', 'city': 'Paris'}\n",
        "\n",
        "if \"city\" in person:\n",
        "    print(\"Key exists\")\n",
        "else:\n",
        "    print(\"Key does not exist\")"
      ],
      "metadata": {
        "colab": {
          "base_uri": "https://localhost:8080/"
        },
        "id": "D7LPnaD-r_RZ",
        "outputId": "b094b6d4-2c79-42fd-9cfe-9d199d06850c"
      },
      "execution_count": 35,
      "outputs": [
        {
          "output_type": "stream",
          "name": "stdout",
          "text": [
            "Key exists\n"
          ]
        }
      ]
    },
    {
      "cell_type": "code",
      "source": [
        "#26.  Write a code to create a list, a tuple, and a dictionary, and print them all.\n",
        "\n",
        "my_list = [1, 2, 3, 4, 5]\n",
        "my_tuple = (10, 20, 30)\n",
        "my_dict = {\"name\": \"Alice\", \"age\": 25, \"city\": \"Paris\"}\n",
        "print(\"List:\", my_list)\n",
        "print(\"Tuple:\", my_tuple)\n",
        "print(\"Dictionary:\", my_dict)"
      ],
      "metadata": {
        "colab": {
          "base_uri": "https://localhost:8080/"
        },
        "id": "R8j6FALSsJma",
        "outputId": "d470b5a0-ebe8-47d8-c293-1ca94edbfea3"
      },
      "execution_count": 36,
      "outputs": [
        {
          "output_type": "stream",
          "name": "stdout",
          "text": [
            "List: [1, 2, 3, 4, 5]\n",
            "Tuple: (10, 20, 30)\n",
            "Dictionary: {'name': 'Alice', 'age': 25, 'city': 'Paris'}\n"
          ]
        }
      ]
    },
    {
      "cell_type": "code",
      "source": [
        "#27. Write a code to create a list of 5 random numbers between 1 and 100, sort it in ascending order, and print the result.(replaced)\n",
        "\n",
        "random_lst=[20, 1, 47, 36, 99]\n",
        "random_lst.sort()\n",
        "print(random_lst)\n"
      ],
      "metadata": {
        "colab": {
          "base_uri": "https://localhost:8080/"
        },
        "id": "WFMp6B6rsVu6",
        "outputId": "7d3108b0-078b-4cc6-a1ae-24f0894b9709"
      },
      "execution_count": 37,
      "outputs": [
        {
          "output_type": "stream",
          "name": "stdout",
          "text": [
            "[1, 20, 36, 47, 99]\n"
          ]
        }
      ]
    },
    {
      "cell_type": "code",
      "source": [
        "#28. Write a code to create a list with strings and print the element at the third index.\n",
        "\n",
        "fruits = [\"apple\", \"banana\", \"cherry\", \"mango\", \"orange\"]\n",
        "print(fruits[3])"
      ],
      "metadata": {
        "colab": {
          "base_uri": "https://localhost:8080/"
        },
        "id": "xbecj7DTtBcm",
        "outputId": "bd349e39-c6b6-49cc-9cfc-69d8044f120d"
      },
      "execution_count": 38,
      "outputs": [
        {
          "output_type": "stream",
          "name": "stdout",
          "text": [
            "mango\n"
          ]
        }
      ]
    },
    {
      "cell_type": "code",
      "source": [
        "#29. Write a code to combine two dictionaries into one and print the result.\n",
        "\n",
        "dict1 = {'a': 1, 'b': 2}\n",
        "dict2 = {'c': 3, 'd': 4}\n",
        "dict1.update(dict2)\n",
        "print(dict1)"
      ],
      "metadata": {
        "colab": {
          "base_uri": "https://localhost:8080/"
        },
        "id": "-TPn0ao1tR1n",
        "outputId": "7c26fedd-757f-4261-df9b-d3208959cebe"
      },
      "execution_count": 39,
      "outputs": [
        {
          "output_type": "stream",
          "name": "stdout",
          "text": [
            "{'a': 1, 'b': 2, 'c': 3, 'd': 4}\n"
          ]
        }
      ]
    },
    {
      "cell_type": "code",
      "source": [
        "#30. Write a code to convert a list of strings into a set.\n",
        "\n",
        "fruits_list = [\"apple\", \"banana\", \"cherry\", \"apple\"]\n",
        "fruits_set = set(fruits_list)\n",
        "print(fruits_set)"
      ],
      "metadata": {
        "colab": {
          "base_uri": "https://localhost:8080/"
        },
        "id": "CS_fh28otefP",
        "outputId": "b96abdb3-87d8-42b8-ea29-6e467bea76b3"
      },
      "execution_count": 40,
      "outputs": [
        {
          "output_type": "stream",
          "name": "stdout",
          "text": [
            "{'apple', 'banana', 'cherry'}\n"
          ]
        }
      ]
    }
  ]
}